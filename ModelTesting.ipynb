{
 "cells": [
  {
   "cell_type": "code",
   "execution_count": 35,
   "metadata": {},
   "outputs": [
    {
     "name": "stdout",
     "output_type": "stream",
     "text": [
      "This image most likely belongs to Dead with a 66.35 percent confidence.\n"
     ]
    },
    {
     "name": "stderr",
     "output_type": "stream",
     "text": [
      "2022-06-11 14:56:28.720731: I tensorflow/core/grappler/optimizers/custom_graph_optimizer_registry.cc:113] Plugin optimizer for device_type GPU is enabled.\n"
     ]
    }
   ],
   "source": [
    "import tensorflow as tf\n",
    "from keras.models import load_model\n",
    "import keras\n",
    "import pandas as pd\n",
    "import numpy as np\n",
    "import cv2\n",
    "import glob\n",
    "\n",
    "healthy_path = '/Users/granthough/Documents/GitHub/Corally/Dataset/Healthy/*.png'\n",
    "bleached_path = '/Users/granthough/Documents/GitHub/Corally/Dataset/Bleached/*.png'\n",
    "dead_path = '/Users/granthough/Documents/GitHub/Corally/Dataset/Dead/*.png'\n",
    "\n",
    "#all images are 227x227 in RGB so 227, 227, 3\n",
    "healthy_images = [cv2.imread(image) for image in glob.glob(healthy_path)]\n",
    "bleached_images = [cv2.imread(image) for image in glob.glob(bleached_path)]\n",
    "dead_images = [cv2.imread(image) for image in glob.glob(dead_path)]\n",
    "\n",
    "img = tf.keras.utils.img_to_array(dead_images[133])\n",
    "img = tf.expand_dims(img, 0)\n",
    "\n",
    "model = tf.keras.models.load_model('model.h5')\n",
    "probs = model.predict(img)\n",
    "score = tf.nn.softmax(probs[0])\n",
    "\n",
    "class_names = ['Bleached', 'Dead', 'Healthy']\n",
    "\n",
    "print(\n",
    "    \"This image most likely belongs to {} with a {:.2f} percent confidence.\"\n",
    "    .format(class_names[np.argmax(score)], 100 * np.max(score))\n",
    ")\n"
   ]
  },
  {
   "cell_type": "code",
   "execution_count": null,
   "metadata": {},
   "outputs": [],
   "source": []
  }
 ],
 "metadata": {
  "interpreter": {
   "hash": "ed62fe37c70c43daf53734f0e82fe51afbd842bd3927931b3d8d095f4b2d0af7"
  },
  "kernelspec": {
   "display_name": "Python 3.9.12 ('tensorflow39')",
   "language": "python",
   "name": "python3"
  },
  "language_info": {
   "codemirror_mode": {
    "name": "ipython",
    "version": 3
   },
   "file_extension": ".py",
   "mimetype": "text/x-python",
   "name": "python",
   "nbconvert_exporter": "python",
   "pygments_lexer": "ipython3",
   "version": "3.9.12"
  },
  "orig_nbformat": 4
 },
 "nbformat": 4,
 "nbformat_minor": 2
}
