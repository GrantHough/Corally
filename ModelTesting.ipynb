{
 "cells": [
  {
   "cell_type": "code",
   "execution_count": 1,
   "metadata": {},
   "outputs": [
    {
     "name": "stdout",
     "output_type": "stream",
     "text": [
      "Metal device set to: Apple M1 Pro\n",
      "\n",
      "systemMemory: 16.00 GB\n",
      "maxCacheSize: 5.33 GB\n",
      "\n"
     ]
    },
    {
     "name": "stderr",
     "output_type": "stream",
     "text": [
      "2022-06-12 00:25:08.039644: I tensorflow/core/common_runtime/pluggable_device/pluggable_device_factory.cc:305] Could not identify NUMA node of platform GPU ID 0, defaulting to 0. Your kernel may not have been built with NUMA support.\n",
      "2022-06-12 00:25:08.039759: I tensorflow/core/common_runtime/pluggable_device/pluggable_device_factory.cc:271] Created TensorFlow device (/job:localhost/replica:0/task:0/device:GPU:0 with 0 MB memory) -> physical PluggableDevice (device: 0, name: METAL, pci bus id: <undefined>)\n"
     ]
    },
    {
     "name": "stdout",
     "output_type": "stream",
     "text": [
      "This image most likely belongs to Dead with a 94.86 percent confidence.\n",
      "1.21.6\n"
     ]
    },
    {
     "name": "stderr",
     "output_type": "stream",
     "text": [
      "2022-06-12 00:25:08.452815: W tensorflow/core/platform/profile_utils/cpu_utils.cc:128] Failed to get CPU frequency: 0 Hz\n",
      "2022-06-12 00:25:08.495067: I tensorflow/core/grappler/optimizers/custom_graph_optimizer_registry.cc:113] Plugin optimizer for device_type GPU is enabled.\n"
     ]
    }
   ],
   "source": [
    "import tensorflow as tf\n",
    "from keras.models import load_model\n",
    "import keras\n",
    "import pandas as pd\n",
    "import numpy as np\n",
    "import cv2\n",
    "import glob\n",
    "\n",
    "healthy_path = '/Users/granthough/Documents/GitHub/Corally/Dataset/Healthy/*.png'\n",
    "bleached_path = '/Users/granthough/Documents/GitHub/Corally/Dataset/Bleached/*.png'\n",
    "dead_path = '/Users/granthough/Documents/GitHub/Corally/Dataset/Dead/*.png'\n",
    "\n",
    "#all images are 227x227 in RGB so 227, 227, 3\n",
    "healthy_images = [cv2.imread(image) for image in glob.glob(healthy_path)]\n",
    "bleached_images = [cv2.imread(image) for image in glob.glob(bleached_path)]\n",
    "dead_images = [cv2.imread(image) for image in glob.glob(dead_path)]\n",
    "\n",
    "img = tf.keras.utils.img_to_array(dead_images[16])\n",
    "img = tf.expand_dims(img, 0)\n",
    "\n",
    "model = tf.keras.models.load_model('model.h5')\n",
    "probs = model.predict(img)\n",
    "score = tf.nn.softmax(probs[0])\n",
    "\n",
    "class_names = ['Bleached', 'Dead', 'Healthy']\n",
    "\n",
    "print(\n",
    "    \"This image most likely belongs to {} with a {:.2f} percent confidence.\"\n",
    "    .format(class_names[np.argmax(score)], 100 * np.max(score))\n",
    ")\n",
    "\n",
    "model.summary()"
   ]
  },
  {
   "cell_type": "code",
   "execution_count": null,
   "metadata": {},
   "outputs": [],
   "source": []
  }
 ],
 "metadata": {
  "interpreter": {
   "hash": "ed62fe37c70c43daf53734f0e82fe51afbd842bd3927931b3d8d095f4b2d0af7"
  },
  "kernelspec": {
   "display_name": "Python 3.9.12 ('tensorflow39')",
   "language": "python",
   "name": "python3"
  },
  "language_info": {
   "codemirror_mode": {
    "name": "ipython",
    "version": 3
   },
   "file_extension": ".py",
   "mimetype": "text/x-python",
   "name": "python",
   "nbconvert_exporter": "python",
   "pygments_lexer": "ipython3",
   "version": "3.9.12"
  },
  "orig_nbformat": 4
 },
 "nbformat": 4,
 "nbformat_minor": 2
}
